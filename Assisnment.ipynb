{
    "cells": [
        {
            "metadata": {
                "tags": []
            },
            "id": "2de93358-f0d9-4794-ab26-59907713154e",
            "cell_type": "markdown",
            "source": "# My Jupyter Notebook on IBM Watson Studio"
        },
        {
            "metadata": {},
            "id": "179e2d73-9763-4c35-bc1d-05e912bff547",
            "cell_type": "markdown",
            "source": "**Amir Reza Setoudegan Ghasemi** \n\ndesired occupation: business data analyst"
        },
        {
            "metadata": {},
            "id": "0917487e-5c35-47fb-811b-b9f297f0cb72",
            "cell_type": "markdown",
            "source": "*I am interested in data science because I love understanding how data affects our lives and how I can help a business grow and increase its ROI by leveraging the power of data. I would also like to learn how to describe charts and demographics adequately.*"
        },
        {
            "metadata": {},
            "id": "618ed96e-e474-4a6a-a12f-ccd8e17b8406",
            "cell_type": "markdown",
            "source": "### This code is going to display \"I love Data Science\" on terminal."
        },
        {
            "metadata": {},
            "id": "9723ea71-ad19-4f27-8b7a-6258b9dfafaa",
            "cell_type": "code",
            "source": "print(\"I love Data Science\")",
            "execution_count": 1,
            "outputs": [
                {
                    "name": "stdout",
                    "output_type": "stream",
                    "text": "I love Data Science\n"
                }
            ]
        },
        {
            "metadata": {},
            "id": "c7b317fb-494b-4473-b0e6-34e3fd4d487e",
            "cell_type": "markdown",
            "source": "I can write the following terms in Markdown: \n\n\n + ~~Strikethrough~~\n + __*Bold and Italic*__\n + [Here is an inline-style link with title](https://ibm.com, \"IBM\")\n + to display a `code`in Python you need to use`print`command\n \n```python\nuser_name = \"Amir\"\nprint(user_name)\n``` \n***\n\n#### User's data\n\nName | Age| Sex\n--- | --- | --- \nAnna | 21 | Female\nPaul | 32 | Male\n \n"
        },
        {
            "metadata": {},
            "id": "22541b11-91cd-4139-89fb-0d04048bc889",
            "cell_type": "code",
            "source": "",
            "execution_count": null,
            "outputs": []
        }
    ],
    "metadata": {
        "kernelspec": {
            "name": "python3",
            "display_name": "Python 3.9",
            "language": "python"
        },
        "language_info": {
            "name": "python",
            "version": "3.9.13",
            "mimetype": "text/x-python",
            "codemirror_mode": {
                "name": "ipython",
                "version": 3
            },
            "pygments_lexer": "ipython3",
            "nbconvert_exporter": "python",
            "file_extension": ".py"
        }
    },
    "nbformat": 4,
    "nbformat_minor": 5
}